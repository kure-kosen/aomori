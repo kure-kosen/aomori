{
 "cells": [
  {
   "cell_type": "code",
   "execution_count": 12,
   "metadata": {},
   "outputs": [],
   "source": [
    "import cv2\n",
    "import numpy as np\n",
    "import matplotlib.pyplot as plt\n",
    "\n",
    "# 取得する色の範囲を指定する\n",
    "lower_yellow = np.array([100,100,100])\n",
    "upper_yellow = np.array([150,150,150])\n",
    "\n",
    "cap = cv2.VideoCapture(0)\n",
    " \n",
    "while(1):\n",
    " \n",
    "    # フレームを取得\n",
    "    ret, frame = cap.read()\n",
    " \n",
    "    # フレームをHSVに変換\n",
    "    hsv = cv2.cvtColor(frame, cv2.COLOR_BGR2HSV)\n",
    " \n",
    "    # 指定した色に基づいたマスク画像の生成\n",
    "    img_mask = cv2.inRange(hsv, lower_yellow, upper_yellow)\n",
    " \n",
    "    # フレーム画像とマスク画像の共通の領域を抽出する。\n",
    "    img_color = cv2.bitwise_and(frame, frame, mask=img_mask)\n",
    " \n",
    "    cv2.imshow(\"display\", img_color)\n",
    " \n",
    "    # qを押したら終了\n",
    "    k = cv2.waitKey(1)\n",
    "    if k == ord('q'):\n",
    "        break\n",
    " \n",
    "cap.release()\n",
    "cv2.destroyAllWindows()\n",
    "\n"
   ]
  },
  {
   "cell_type": "code",
   "execution_count": null,
   "metadata": {},
   "outputs": [],
   "source": []
  }
 ],
 "metadata": {
  "kernelspec": {
   "display_name": "Python 3",
   "language": "python",
   "name": "python3"
  },
  "language_info": {
   "codemirror_mode": {
    "name": "ipython",
    "version": 3
   },
   "file_extension": ".py",
   "mimetype": "text/x-python",
   "name": "python",
   "nbconvert_exporter": "python",
   "pygments_lexer": "ipython3",
   "version": "3.6.2"
  }
 },
 "nbformat": 4,
 "nbformat_minor": 2
}
